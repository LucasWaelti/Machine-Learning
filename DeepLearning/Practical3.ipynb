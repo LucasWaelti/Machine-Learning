{
 "cells": [
  {
   "cell_type": "code",
   "execution_count": 51,
   "metadata": {},
   "outputs": [],
   "source": [
    "# Practical 3\n",
    "\n",
    "%matplotlib inline\n",
    "\n",
    "import torch\n",
    "from torch import Tensor\n",
    "import dlc_practical_prologue as prologue\n",
    "from matplotlib import pyplot as plt\n",
    "import time"
   ]
  },
  {
   "cell_type": "code",
   "execution_count": 2,
   "metadata": {},
   "outputs": [],
   "source": [
    "def sigma(x):\n",
    "    return torch.tanh(x)\n",
    "\n",
    "def dsigma(x):\n",
    "    return 1 - torch.pow(torch.tanh(x),2)"
   ]
  },
  {
   "cell_type": "code",
   "execution_count": 3,
   "metadata": {},
   "outputs": [],
   "source": [
    "def loss(v,t):\n",
    "    return torch.sum(torch.pow(t-v,2))\n",
    "\n",
    "def dloss(v,t):\n",
    "    return -2*(t-v)"
   ]
  },
  {
   "cell_type": "code",
   "execution_count": 89,
   "metadata": {},
   "outputs": [],
   "source": [
    "def forward_pass(w1, b1, w2, b2, x):\n",
    "    s1 = w1.mm(x) + b1\n",
    "    x1 = sigma(s1)\n",
    "    s2 = w2.mm(x1) + b2\n",
    "    x2 = sigma(s2)\n",
    "    return x,s1,x1,s2,x2\n",
    "\n",
    "def backward_pass(w1, b1, w2, b2,\n",
    "                  t,\n",
    "                  x, s1, x1, s2, x2,\n",
    "                  dl_dw1, dl_db1, dl_dw2, dl_db2):\n",
    "    \n",
    "    dl_dx2 = dloss(x2,t)\n",
    "    dl_ds2 = dl_dx2 * dsigma(s2)\n",
    "    dl_dx1 = w2.t().mm(dl_ds2)\n",
    "    dl_ds1 = dl_dx1 * dsigma(s1)\n",
    "    \n",
    "    dl_dw2 += dl_ds2.mm(x1.view(1,-1))\n",
    "    dl_dw1 += dl_ds1.mm(x.view(1,-1))\n",
    "    dl_db2 += dl_ds2\n",
    "    dl_db1 += dl_ds1 "
   ]
  },
  {
   "cell_type": "code",
   "execution_count": 90,
   "metadata": {},
   "outputs": [
    {
     "name": "stdout",
     "output_type": "stream",
     "text": [
      "* Using MNIST\n",
      "** Reduce the data-set (use --full for the full thing)\n",
      "** Use 1000 train and 1000 test samples\n"
     ]
    }
   ],
   "source": [
    "# Load MNIST dataset (reduced set)\n",
    "train_input, train_target, test_input, test_target = prologue.load_data(\n",
    "    cifar = None, one_hot_labels = True, normalize = True, flatten = True)"
   ]
  },
  {
   "cell_type": "code",
   "execution_count": 91,
   "metadata": {},
   "outputs": [
    {
     "name": "stdout",
     "output_type": "stream",
     "text": [
      "Started learning:\n",
      "| 0 /1000 done, time remaining: 343 seconds\n",
      "Current loss: 0.810\n",
      "| 100 /1000 done, time remaining: 225 seconds\n",
      "Current loss: 0.300\n",
      "| 200 /1000 done, time remaining: 250 seconds\n",
      "Current loss: 0.166\n",
      "| 300 /1000 done, time remaining: 186 seconds\n",
      "Current loss: 0.167\n",
      "| 400 /1000 done, time remaining: 159 seconds\n",
      "Current loss: 0.046\n",
      "| 500 /1000 done, time remaining: 133 seconds\n",
      "Current loss: 0.110\n",
      "| 600 /1000 done, time remaining: 100 seconds\n",
      "Current loss: 0.069\n",
      "| 700 /1000 done, time remaining: 70 seconds\n",
      "Current loss: 0.047\n",
      "| 800 /1000 done, time remaining: 50 seconds\n",
      "Current loss: 0.033\n",
      "| 900 /1000 done, time remaining: 25 seconds\n",
      "Current loss: 0.036\n"
     ]
    },
    {
     "data": {
      "image/png": "[encoded data removed]",
      "text/plain": [
       "<Figure size 432x288 with 1 Axes>"
      ]
     },
     "metadata": {
      "needs_background": "light"
     },
     "output_type": "display_data"
    }
   ],
   "source": [
    "# Create and train the network\n",
    "\n",
    "# Make sure the data is contained within [0,1[\n",
    "test_target *= 0.9\n",
    "train_target *= 0.9\n",
    "\n",
    "# Number of samples\n",
    "num = train_input.size()[0]\n",
    "# Dimension of a single sample\n",
    "dim = train_input.size()[1]\n",
    "\n",
    "# Parameters of the network\n",
    "w1 = torch.empty((50,dim)).normal_(0,1e-6)\n",
    "w2 = torch.empty((10,50)).normal_(0,1e-6)\n",
    "b1 = torch.empty((50,1)).normal_(0,1e-6)\n",
    "b2 = torch.empty((10,1)).normal_(0,1e-6)\n",
    "\n",
    "# Update parameters\n",
    "dl_dw1 = torch.empty((50,dim)).zero_()\n",
    "dl_dw2 = torch.empty((10,50)).zero_()\n",
    "dl_db1 = torch.zeros((50,1))\n",
    "dl_db2 = torch.zeros((10,1))\n",
    "\n",
    "eta = 0.1\n",
    "_loss = []\n",
    "# make 1000 runs through the dataset\n",
    "print('Started learning:')\n",
    "for p in range(0,1000):\n",
    "    # Learn from each sample\n",
    "    start = time.time()\n",
    "    for i in range(0,num):\n",
    "        # Get a sample\n",
    "        x = train_input[i,:].view(-1,1)\n",
    "        t = train_target[i,:].view(-1,1)\n",
    "        # Make a forward and backward pass\n",
    "        _,s1,x1,s2,x2 = forward_pass(w1, b1, w2, b2, x)\n",
    "        backward_pass(w1, b1, w2, b2,\n",
    "                      t,\n",
    "                      x, s1, x1, s2, x2,\n",
    "                      dl_dw1, dl_db1, dl_dw2, dl_db2)\n",
    "        \n",
    "    # Update the weights after one run through the dataset\n",
    "    w1 -= eta*dl_dw1/num\n",
    "    w2 -= eta*dl_dw2/num\n",
    "    b1 -= eta*dl_db1/num\n",
    "    b2 -= eta*dl_db2/num\n",
    "    \n",
    "    # Reinitialize the derivatives\n",
    "    dl_dw1.zero_()\n",
    "    dl_dw2.zero_()\n",
    "    dl_db1.zero_()\n",
    "    dl_db2.zero_()\n",
    "    \n",
    "    end = time.time()\n",
    "    time_left = (end-start)*(1000-p)\n",
    "    \n",
    "    # Display progress and remaining time\n",
    "    if p%100 is 0:\n",
    "        print('|',p,'/1000 done, time remaining: %.0f seconds'%time_left)\n",
    "        _loss.append(loss(t,x2))\n",
    "        print('Current loss: %.3f'%_loss[-1])\n",
    "    \n",
    "    \n",
    "plt.plot(_loss)\n",
    "plt.show()"
   ]
  },
  {
   "cell_type": "code",
   "execution_count": 92,
   "metadata": {},
   "outputs": [
    {
     "name": "stdout",
     "output_type": "stream",
     "text": [
      "Error rate on the training set:  0.2 %\n",
      "Error rate on the testing set:  15.4 %\n"
     ]
    }
   ],
   "source": [
    "# Evaluate the network on the training set\n",
    "correct = 0\n",
    "for i in range(train_input.size()[0]):\n",
    "    x = train_input[i,:].view(-1,1)\n",
    "    t = train_target[i,:].view(-1,1)\n",
    "    _,s1,x1,s2,x2 = forward_pass(w1, b1, w2, b2, x)\n",
    "    \n",
    "    _,label = x2.max(0)\n",
    "    _,tlabel= t.max(0)\n",
    "    if label == tlabel:\n",
    "        correct += 1\n",
    "    \n",
    "print('Error rate on the training set: ',(train_input.size()[0]-correct)/train_input.size()[0]*100,'%')\n",
    "\n",
    "\n",
    "# Evaluate the network on the testing set\n",
    "correct = 0\n",
    "for i in range(test_input.size()[0]):\n",
    "    x = test_input[i,:].view(-1,1)\n",
    "    t = test_target[i,:].view(-1,1)\n",
    "    _,s1,x1,s2,x2 = forward_pass(w1, b1, w2, b2, x)\n",
    "    \n",
    "    _,label = x2.max(0)\n",
    "    _,tlabel= t.max(0)\n",
    "    if label == tlabel:\n",
    "        correct += 1\n",
    "    \n",
    "print('Error rate on the testing set: ',(test_input.size()[0]-correct)/test_input.size()[0]*100,'%')"
   ]
  },
  {
   "cell_type": "code",
   "execution_count": 88,
   "metadata": {},
   "outputs": [
    {
     "name": "stdout",
     "output_type": "stream",
     "text": [
      "tensor([[0.0039],\n",
      "        [0.0006],\n",
      "        [0.0028],\n",
      "        [0.0015],\n",
      "        [0.0044],\n",
      "        [0.0024],\n",
      "        [0.0042],\n",
      "        [0.0033],\n",
      "        [0.0016],\n",
      "        [0.0032]])\n",
      "tensor([[0.0000],\n",
      "        [0.0000],\n",
      "        [0.0000],\n",
      "        [0.0000],\n",
      "        [0.0000],\n",
      "        [0.0000],\n",
      "        [0.0278],\n",
      "        [0.0000],\n",
      "        [0.0000],\n",
      "        [0.0000]])\n",
      "4\n"
     ]
    }
   ],
   "source": [
    "x = test_input[123,:].view(-1,1)\n",
    "t = test_target[123,:].view(-1,1)\n",
    "_,s1,x1,s2,x2 = forward_pass(w1, b1, w2, b2, x)\n",
    "print(x2)\n",
    "print(t)\n",
    "a = [1,2,3,4]\n",
    "print(a[-1])"
   ]
  }
 ],
 "metadata": {
  "kernelspec": {
   "display_name": "Python 3",
   "language": "python",
   "name": "python3"
  },
  "language_info": {
   "codemirror_mode": {
    "name": "ipython",
    "version": 3
   },
   "file_extension": ".py",
   "mimetype": "text/x-python",
   "name": "python",
   "nbconvert_exporter": "python",
   "pygments_lexer": "ipython3",
   "version": "3.7.2"
  }
 },
 "nbformat": 4,
 "nbformat_minor": 2
}
